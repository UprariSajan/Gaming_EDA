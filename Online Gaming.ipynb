{
 "cells": [
  {
   "cell_type": "code",
   "execution_count": 203,
   "id": "cda0511f",
   "metadata": {},
   "outputs": [],
   "source": [
    "import numpy as np\n",
    "import pandas as pd\n",
    "import matplotlib.pyplot as plt\n",
    "import seaborn as sns"
   ]
  },
  {
   "cell_type": "code",
   "execution_count": 204,
   "id": "8d5fa834",
   "metadata": {},
   "outputs": [],
   "source": [
    "games=pd.read_csv('dataminer.csv')"
   ]
  },
  {
   "cell_type": "code",
   "execution_count": 205,
   "id": "73552822",
   "metadata": {},
   "outputs": [
    {
     "data": {
      "text/html": [
       "<div>\n",
       "<style scoped>\n",
       "    .dataframe tbody tr th:only-of-type {\n",
       "        vertical-align: middle;\n",
       "    }\n",
       "\n",
       "    .dataframe tbody tr th {\n",
       "        vertical-align: top;\n",
       "    }\n",
       "\n",
       "    .dataframe thead th {\n",
       "        text-align: right;\n",
       "    }\n",
       "</style>\n",
       "<table border=\"1\" class=\"dataframe\">\n",
       "  <thead>\n",
       "    <tr style=\"text-align: right;\">\n",
       "      <th></th>\n",
       "      <th>Title</th>\n",
       "      <th>Sales</th>\n",
       "      <th>Platform(s)</th>\n",
       "      <th>Initial_release_date</th>\n",
       "      <th>Developer(s)</th>\n",
       "      <th>Publisher(s)</th>\n",
       "    </tr>\n",
       "  </thead>\n",
       "  <tbody>\n",
       "    <tr>\n",
       "      <th>0</th>\n",
       "      <td>Minecraft</td>\n",
       "      <td>200000000</td>\n",
       "      <td>Multi-platform</td>\n",
       "      <td>11/18/2011</td>\n",
       "      <td>Mojang Studios</td>\n",
       "      <td>Mojang Studios</td>\n",
       "    </tr>\n",
       "    <tr>\n",
       "      <th>1</th>\n",
       "      <td>Grand Theft Auto V</td>\n",
       "      <td>130000000</td>\n",
       "      <td>Multi-platform</td>\n",
       "      <td>9/17/2013</td>\n",
       "      <td>Rockstar North</td>\n",
       "      <td>Rockstar Games</td>\n",
       "    </tr>\n",
       "    <tr>\n",
       "      <th>2</th>\n",
       "      <td>Tetris (EA)</td>\n",
       "      <td>100000000</td>\n",
       "      <td>Mobile</td>\n",
       "      <td>9/12/2006</td>\n",
       "      <td>EA Mobile</td>\n",
       "      <td>Electronic Arts</td>\n",
       "    </tr>\n",
       "    <tr>\n",
       "      <th>3</th>\n",
       "      <td>Wii Sports</td>\n",
       "      <td>82900000</td>\n",
       "      <td>Wii</td>\n",
       "      <td>11/19/2006</td>\n",
       "      <td>Nintendo EAD</td>\n",
       "      <td>Nintendo</td>\n",
       "    </tr>\n",
       "    <tr>\n",
       "      <th>4</th>\n",
       "      <td>PlayerUnknown's Battlegrounds</td>\n",
       "      <td>60000000</td>\n",
       "      <td>Multi-platform</td>\n",
       "      <td>12/20/2017</td>\n",
       "      <td>PUBG Corporation</td>\n",
       "      <td>PUBG Corporation</td>\n",
       "    </tr>\n",
       "  </tbody>\n",
       "</table>\n",
       "</div>"
      ],
      "text/plain": [
       "                           Title      Sales     Platform(s)  \\\n",
       "0                      Minecraft  200000000  Multi-platform   \n",
       "1             Grand Theft Auto V  130000000  Multi-platform   \n",
       "2                    Tetris (EA)  100000000          Mobile   \n",
       "3                     Wii Sports   82900000             Wii   \n",
       "4  PlayerUnknown's Battlegrounds   60000000  Multi-platform   \n",
       "\n",
       "  Initial_release_date      Developer(s)      Publisher(s)  \n",
       "0           11/18/2011    Mojang Studios    Mojang Studios  \n",
       "1            9/17/2013    Rockstar North    Rockstar Games  \n",
       "2            9/12/2006         EA Mobile   Electronic Arts  \n",
       "3           11/19/2006      Nintendo EAD          Nintendo  \n",
       "4           12/20/2017  PUBG Corporation  PUBG Corporation  "
      ]
     },
     "execution_count": 205,
     "metadata": {},
     "output_type": "execute_result"
    }
   ],
   "source": [
    "games.head()"
   ]
  },
  {
   "cell_type": "code",
   "execution_count": 206,
   "id": "2d935c89",
   "metadata": {},
   "outputs": [
    {
     "name": "stdout",
     "output_type": "stream",
     "text": [
      "<class 'pandas.core.frame.DataFrame'>\n",
      "RangeIndex: 51 entries, 0 to 50\n",
      "Data columns (total 6 columns):\n",
      " #   Column                Non-Null Count  Dtype \n",
      "---  ------                --------------  ----- \n",
      " 0   Title                 51 non-null     object\n",
      " 1   Sales                 51 non-null     int64 \n",
      " 2   Platform(s)           51 non-null     object\n",
      " 3   Initial_release_date  51 non-null     object\n",
      " 4   Developer(s)          51 non-null     object\n",
      " 5   Publisher(s)          51 non-null     object\n",
      "dtypes: int64(1), object(5)\n",
      "memory usage: 2.5+ KB\n"
     ]
    }
   ],
   "source": [
    "games.info()"
   ]
  },
  {
   "cell_type": "code",
   "execution_count": 7,
   "id": "c0c60a66",
   "metadata": {},
   "outputs": [
    {
     "data": {
      "text/plain": [
       "False    51\n",
       "dtype: int64"
      ]
     },
     "execution_count": 7,
     "metadata": {},
     "output_type": "execute_result"
    }
   ],
   "source": [
    "games.duplicated().value_counts()"
   ]
  },
  {
   "cell_type": "code",
   "execution_count": 93,
   "id": "487cde3b",
   "metadata": {},
   "outputs": [
    {
     "data": {
      "text/plain": [
       "Title                    0\n",
       "Sales                    0\n",
       "Platform(s)              0\n",
       "Initial  release date    0\n",
       "Developer(s)             0\n",
       "Publisher(s)             0\n",
       "dtype: int64"
      ]
     },
     "execution_count": 93,
     "metadata": {},
     "output_type": "execute_result"
    }
   ],
   "source": [
    "games.isna().sum()"
   ]
  },
  {
   "cell_type": "code",
   "execution_count": 207,
   "id": "4ecd25d2",
   "metadata": {},
   "outputs": [
    {
     "data": {
      "text/plain": [
       "(51, 6)"
      ]
     },
     "execution_count": 207,
     "metadata": {},
     "output_type": "execute_result"
    }
   ],
   "source": [
    "games.shape"
   ]
  },
  {
   "cell_type": "markdown",
   "id": "fe060065",
   "metadata": {},
   "source": [
    "#  top sales video game ."
   ]
  },
  {
   "cell_type": "code",
   "execution_count": 208,
   "id": "d2cdef14",
   "metadata": {},
   "outputs": [
    {
     "data": {
      "text/plain": [
       "Minecraft                                           1\n",
       "Super Mario World                                   1\n",
       "Pokémon Diamond / Pearl / Platinum                  1\n",
       "Call of Duty: Black Ops II                          1\n",
       "Kinect Adventures!                                  1\n",
       "FIFA 18                                             1\n",
       "Sonic the Hedgehog                                  1\n",
       "Nintendogs                                          1\n",
       "Mario Kart DS                                       1\n",
       "Call of Duty: Modern Warfare 2                      1\n",
       "Pokémon Ruby / Sapphire / Emerald                   1\n",
       "Borderlands 2                                       1\n",
       "Frogger                                             1\n",
       "Grand Theft Auto IV                                 1\n",
       "Lemmings                                            1\n",
       "Grand Theft Auto: Vice City                         1\n",
       "The Last of Us                                      1\n",
       "The Legend of Zelda: Breath of the Wild             1\n",
       "Brain Age                                           1\n",
       "Super Mario Bros. 3                                 1\n",
       "Call of Duty: Ghosts                                1\n",
       "Super Smash Bros. Ultimate                          1\n",
       "Mario Kart 7                                        1\n",
       "Super Mario Land                                    1\n",
       "Pokémon Sun / Moon / Ultra Sun / Ultra Moon         1\n",
       "Call of Duty: Black Ops                             1\n",
       "Grand Theft Auto V                                  1\n",
       "Wii Sports Resort                                   1\n",
       "Tetris (EA)                                         1\n",
       "Wii Sports                                          1\n",
       "PlayerUnknown's Battlegrounds                       1\n",
       "Super Mario Bros.                                   1\n",
       "Pokémon Red / Green / Blue / Yellow                 1\n",
       "Wii Fit and Wii Fit Plus                            1\n",
       "Tetris (Nintendo)                                   1\n",
       "Pac-Man                                             1\n",
       "Mario Kart Wii                                      1\n",
       "Mario Kart 8 / Deluxe                               1\n",
       "Red Dead Redemption 2                               1\n",
       "Call of Duty: Modern Warfare 3                      1\n",
       "New Super Mario Bros.                               1\n",
       "Terraria                                            1\n",
       "New Super Mario Bros. Wii                           1\n",
       "The Elder Scrolls V: Skyrim                         1\n",
       "Diablo III and Reaper of Souls                      1\n",
       "Pokémon Gold / Silver / Crystal                     1\n",
       "Duck Hunt                                           1\n",
       "Wii Play                                            1\n",
       "The Witcher 3 / Hearts of Stone / Blood and Wine    1\n",
       "Grand Theft Auto: San Andreas                       1\n",
       "Gran Turismo 4                                      1\n",
       "Name: Title, dtype: int64"
      ]
     },
     "execution_count": 208,
     "metadata": {},
     "output_type": "execute_result"
    }
   ],
   "source": [
    "games['Title'].value_counts()"
   ]
  },
  {
   "cell_type": "code",
   "execution_count": 209,
   "id": "50ff3ebd",
   "metadata": {},
   "outputs": [
    {
     "data": {
      "text/html": [
       "<div>\n",
       "<style scoped>\n",
       "    .dataframe tbody tr th:only-of-type {\n",
       "        vertical-align: middle;\n",
       "    }\n",
       "\n",
       "    .dataframe tbody tr th {\n",
       "        vertical-align: top;\n",
       "    }\n",
       "\n",
       "    .dataframe thead th {\n",
       "        text-align: right;\n",
       "    }\n",
       "</style>\n",
       "<table border=\"1\" class=\"dataframe\">\n",
       "  <thead>\n",
       "    <tr style=\"text-align: right;\">\n",
       "      <th></th>\n",
       "      <th>Title</th>\n",
       "      <th>Sales</th>\n",
       "    </tr>\n",
       "  </thead>\n",
       "  <tbody>\n",
       "    <tr>\n",
       "      <th>0</th>\n",
       "      <td>Minecraft</td>\n",
       "      <td>200000000</td>\n",
       "    </tr>\n",
       "    <tr>\n",
       "      <th>1</th>\n",
       "      <td>Grand Theft Auto V</td>\n",
       "      <td>130000000</td>\n",
       "    </tr>\n",
       "    <tr>\n",
       "      <th>2</th>\n",
       "      <td>Tetris (EA)</td>\n",
       "      <td>100000000</td>\n",
       "    </tr>\n",
       "    <tr>\n",
       "      <th>3</th>\n",
       "      <td>Wii Sports</td>\n",
       "      <td>82900000</td>\n",
       "    </tr>\n",
       "    <tr>\n",
       "      <th>4</th>\n",
       "      <td>PlayerUnknown's Battlegrounds</td>\n",
       "      <td>60000000</td>\n",
       "    </tr>\n",
       "  </tbody>\n",
       "</table>\n",
       "</div>"
      ],
      "text/plain": [
       "                           Title      Sales\n",
       "0                      Minecraft  200000000\n",
       "1             Grand Theft Auto V  130000000\n",
       "2                    Tetris (EA)  100000000\n",
       "3                     Wii Sports   82900000\n",
       "4  PlayerUnknown's Battlegrounds   60000000"
      ]
     },
     "execution_count": 209,
     "metadata": {},
     "output_type": "execute_result"
    }
   ],
   "source": [
    "top_sales=games[['Title','Sales']].sort_values('Sales',ascending=False).head()\n",
    "top_sales"
   ]
  },
  {
   "cell_type": "code",
   "execution_count": 210,
   "id": "84b18306",
   "metadata": {},
   "outputs": [
    {
     "data": {
      "image/png": "[encoded data removed]",
      "text/plain": [
       "<Figure size 432x288 with 1 Axes>"
      ]
     },
     "metadata": {
      "needs_background": "light"
     },
     "output_type": "display_data"
    }
   ],
   "source": [
    "color=['green','blue','orange','yellow','pink']\n",
    "top_sales.plot.barh('Title','Sales',color=color,fontsize=10,edgecolor='black',label='Top Sales')\n",
    "\n",
    "plt.xlabel('Sales',fontsize=18,color='green')\n",
    "plt.ylabel('Games',fontsize=18,color='green')\n",
    "plt.title('Top Games',fontsize=18,color='green')\n",
    "plt.grid(linewidth=0.2)\n",
    "plt.show()"
   ]
  },
  {
   "cell_type": "markdown",
   "id": "fdf3efb2",
   "metadata": {},
   "source": [
    "#  which platform has highest game."
   ]
  },
  {
   "cell_type": "code",
   "execution_count": 98,
   "id": "317f2123",
   "metadata": {},
   "outputs": [
    {
     "data": {
      "text/html": [
       "<div>\n",
       "<style scoped>\n",
       "    .dataframe tbody tr th:only-of-type {\n",
       "        vertical-align: middle;\n",
       "    }\n",
       "\n",
       "    .dataframe tbody tr th {\n",
       "        vertical-align: top;\n",
       "    }\n",
       "\n",
       "    .dataframe thead th {\n",
       "        text-align: right;\n",
       "    }\n",
       "</style>\n",
       "<table border=\"1\" class=\"dataframe\">\n",
       "  <thead>\n",
       "    <tr style=\"text-align: right;\">\n",
       "      <th></th>\n",
       "      <th>Platform(s)</th>\n",
       "      <th>Title</th>\n",
       "    </tr>\n",
       "  </thead>\n",
       "  <tbody>\n",
       "    <tr>\n",
       "      <th>0</th>\n",
       "      <td>Multi-platform</td>\n",
       "      <td>27</td>\n",
       "    </tr>\n",
       "  </tbody>\n",
       "</table>\n",
       "</div>"
      ],
      "text/plain": [
       "      Platform(s)  Title\n",
       "0  Multi-platform     27"
      ]
     },
     "execution_count": 98,
     "metadata": {},
     "output_type": "execute_result"
    }
   ],
   "source": [
    "games.groupby('Platform(s)')['Title'].count().sort_values(ascending=False).head(1).reset_index()"
   ]
  },
  {
   "cell_type": "markdown",
   "id": "62bd94a3",
   "metadata": {},
   "source": [
    "#   platform wise highest sales ."
   ]
  },
  {
   "cell_type": "code",
   "execution_count": 211,
   "id": "10153a41",
   "metadata": {},
   "outputs": [
    {
     "data": {
      "text/plain": [
       "Platform(s)\n",
       "Multi-platform      1033583960\n",
       "Wii                  255470000\n",
       "Nintendo DS          122100000\n",
       "Mobile               100000000\n",
       "Nintendo 3DS          43660000\n",
       "Game Boy / NES        43000000\n",
       "Wii U / Switch        33220000\n",
       "Game Boy Color        29490000\n",
       "NES                   28300000\n",
       "Xbox 360              24000000\n",
       "Game Boy Advance      22540000\n",
       "PS3 / PS4             20000000\n",
       "Switch / Wii U        19080000\n",
       "Nintendo Switch       18840000\n",
       "PS2 / PSP             17830000\n",
       "Name: Sales, dtype: int64"
      ]
     },
     "execution_count": 211,
     "metadata": {},
     "output_type": "execute_result"
    }
   ],
   "source": [
    "highest_sales=games.groupby('Platform(s)')['Sales'].sum().sort_values(ascending=False)\n",
    "highest_sales"
   ]
  },
  {
   "cell_type": "code",
   "execution_count": 212,
   "id": "cdc813b9",
   "metadata": {},
   "outputs": [
    {
     "data": {
      "image/png": "[encoded data removed]",
      "text/plain": [
       "<Figure size 432x288 with 1 Axes>"
      ]
     },
     "metadata": {
      "needs_background": "light"
     },
     "output_type": "display_data"
    }
   ],
   "source": [
    "highest_sales.plot.bar()\n",
    "\n",
    "plt.xlabel(\"Platform's\",fontsize=18,color='black')\n",
    "plt.ylabel('Sales',fontsize=18,color='black')\n",
    "plt.title('Total Sales',fontsize=18,color='black')\n",
    "plt.grid(linewidth=0.2)\n",
    "plt.show()"
   ]
  },
  {
   "cell_type": "markdown",
   "id": "011e42fa",
   "metadata": {},
   "source": [
    "\n",
    "#    which year has highest game release."
   ]
  },
  {
   "cell_type": "code",
   "execution_count": 213,
   "id": "63dc548d",
   "metadata": {},
   "outputs": [
    {
     "data": {
      "text/html": [
       "<div>\n",
       "<style scoped>\n",
       "    .dataframe tbody tr th:only-of-type {\n",
       "        vertical-align: middle;\n",
       "    }\n",
       "\n",
       "    .dataframe tbody tr th {\n",
       "        vertical-align: top;\n",
       "    }\n",
       "\n",
       "    .dataframe thead th {\n",
       "        text-align: right;\n",
       "    }\n",
       "</style>\n",
       "<table border=\"1\" class=\"dataframe\">\n",
       "  <thead>\n",
       "    <tr style=\"text-align: right;\">\n",
       "      <th></th>\n",
       "      <th>Initial_release_date</th>\n",
       "    </tr>\n",
       "  </thead>\n",
       "  <tbody>\n",
       "    <tr>\n",
       "      <th>2011</th>\n",
       "      <td>5</td>\n",
       "    </tr>\n",
       "    <tr>\n",
       "      <th>2006</th>\n",
       "      <td>5</td>\n",
       "    </tr>\n",
       "  </tbody>\n",
       "</table>\n",
       "</div>"
      ],
      "text/plain": [
       "      Initial_release_date\n",
       "2011                     5\n",
       "2006                     5"
      ]
     },
     "execution_count": 213,
     "metadata": {},
     "output_type": "execute_result"
    }
   ],
   "source": [
    "most_game_release = pd.DatetimeIndex(games['Initial_release_date']).year.value_counts().head(2)\n",
    "x=pd.DataFrame(most_game_release)\n",
    "x\n"
   ]
  },
  {
   "cell_type": "code",
   "execution_count": 214,
   "id": "945dd499",
   "metadata": {},
   "outputs": [
    {
     "data": {
      "image/png": "[encoded data removed]",
      "text/plain": [
       "<Figure size 432x288 with 1 Axes>"
      ]
     },
     "metadata": {
      "needs_background": "light"
     },
     "output_type": "display_data"
    }
   ],
   "source": [
    "most_game_release.plot.bar(fontsize=12,color='brown')\n",
    "plt.xlabel('Year',fontsize=18,color='gray')\n",
    "plt.ylabel('Game Release',fontsize=18,color='gray')\n",
    "plt.title('Highest Game Release',fontsize=18,color='gray')\n",
    "plt.grid(linewidth=0.2)\n",
    "plt.show()"
   ]
  },
  {
   "cell_type": "markdown",
   "id": "fd9c0a79",
   "metadata": {},
   "source": [
    "#    which publisher has publish highest game and there total sales"
   ]
  },
  {
   "cell_type": "code",
   "execution_count": 215,
   "id": "81412886",
   "metadata": {},
   "outputs": [
    {
     "data": {
      "text/plain": [
       "Publisher(s)\n",
       "Nintendo    697583000\n",
       "Name: Sales, dtype: int64"
      ]
     },
     "execution_count": 215,
     "metadata": {},
     "output_type": "execute_result"
    }
   ],
   "source": [
    "publisher=games.groupby('Publisher(s)')['Sales'].sum().sort_values(ascending=False).head(1)\n",
    "publisher"
   ]
  },
  {
   "cell_type": "markdown",
   "id": "f387f8ec",
   "metadata": {},
   "source": [
    " # Extra Insights\n",
    " \n",
    " # Least 10 Sales years"
   ]
  },
  {
   "cell_type": "code",
   "execution_count": 217,
   "id": "3554eb71",
   "metadata": {},
   "outputs": [
    {
     "data": {
      "text/html": [
       "<div>\n",
       "<style scoped>\n",
       "    .dataframe tbody tr th:only-of-type {\n",
       "        vertical-align: middle;\n",
       "    }\n",
       "\n",
       "    .dataframe tbody tr th {\n",
       "        vertical-align: top;\n",
       "    }\n",
       "\n",
       "    .dataframe thead th {\n",
       "        text-align: right;\n",
       "    }\n",
       "</style>\n",
       "<table border=\"1\" class=\"dataframe\">\n",
       "  <thead>\n",
       "    <tr style=\"text-align: right;\">\n",
       "      <th></th>\n",
       "      <th>year</th>\n",
       "      <th>Sales</th>\n",
       "    </tr>\n",
       "  </thead>\n",
       "  <tbody>\n",
       "    <tr>\n",
       "      <th>0</th>\n",
       "      <td>1988</td>\n",
       "      <td>19000000</td>\n",
       "    </tr>\n",
       "    <tr>\n",
       "      <th>1</th>\n",
       "      <td>1981</td>\n",
       "      <td>20000000</td>\n",
       "    </tr>\n",
       "    <tr>\n",
       "      <th>2</th>\n",
       "      <td>1990</td>\n",
       "      <td>20972500</td>\n",
       "    </tr>\n",
       "    <tr>\n",
       "      <th>3</th>\n",
       "      <td>2016</td>\n",
       "      <td>24950000</td>\n",
       "    </tr>\n",
       "    <tr>\n",
       "      <th>4</th>\n",
       "      <td>2015</td>\n",
       "      <td>28000000</td>\n",
       "    </tr>\n",
       "    <tr>\n",
       "      <th>5</th>\n",
       "      <td>1984</td>\n",
       "      <td>28300000</td>\n",
       "    </tr>\n",
       "    <tr>\n",
       "      <th>6</th>\n",
       "      <td>1999</td>\n",
       "      <td>29490000</td>\n",
       "    </tr>\n",
       "    <tr>\n",
       "      <th>7</th>\n",
       "      <td>2014</td>\n",
       "      <td>33220000</td>\n",
       "    </tr>\n",
       "    <tr>\n",
       "      <th>8</th>\n",
       "      <td>1980</td>\n",
       "      <td>39098000</td>\n",
       "    </tr>\n",
       "    <tr>\n",
       "      <th>9</th>\n",
       "      <td>2002</td>\n",
       "      <td>42540000</td>\n",
       "    </tr>\n",
       "  </tbody>\n",
       "</table>\n",
       "</div>"
      ],
      "text/plain": [
       "   year     Sales\n",
       "0  1988  19000000\n",
       "1  1981  20000000\n",
       "2  1990  20972500\n",
       "3  2016  24950000\n",
       "4  2015  28000000\n",
       "5  1984  28300000\n",
       "6  1999  29490000\n",
       "7  2014  33220000\n",
       "8  1980  39098000\n",
       "9  2002  42540000"
      ]
     },
     "execution_count": 217,
     "metadata": {},
     "output_type": "execute_result"
    }
   ],
   "source": [
    "revenues=revenue[['year','Sales']].sort_values('Sales',ascending=True).head(10)\n",
    "revenues"
   ]
  },
  {
   "cell_type": "code",
   "execution_count": 163,
   "id": "f2636aaa",
   "metadata": {},
   "outputs": [
    {
     "data": {
      "image/png": "[encoded data removed]",
      "text/plain": [
       "<Figure size 432x288 with 1 Axes>"
      ]
     },
     "metadata": {
      "needs_background": "light"
     },
     "output_type": "display_data"
    }
   ],
   "source": [
    "\n",
    "revenues.plot.barh('year','Sales',fontsize=10,edgecolor='orange')\n",
    "\n",
    "plt.xlabel('Sales',fontsize=18,color='orange')\n",
    "plt.ylabel('Years',fontsize=18,color='orange')\n",
    "plt.title('Least Sales Years',fontsize=18,color='orange')\n",
    "plt.grid(linewidth=0.3)\n",
    "plt.show()\n"
   ]
  },
  {
   "cell_type": "markdown",
   "id": "0c6b20f1",
   "metadata": {},
   "source": [
    "\n",
    "# Compare top 5 developers who develop the most games"
   ]
  },
  {
   "cell_type": "code",
   "execution_count": 171,
   "id": "9310ff2b",
   "metadata": {},
   "outputs": [
    {
     "data": {
      "text/plain": [
       "Developer(s)\n",
       "Nintendo EAD      12\n",
       "Game Freak         5\n",
       "Rockstar North     4\n",
       "Nintendo R&D1      3\n",
       "Treyarch           2\n",
       "Name: Title, dtype: int64"
      ]
     },
     "execution_count": 171,
     "metadata": {},
     "output_type": "execute_result"
    }
   ],
   "source": [
    "top=games.groupby('Developer(s)')['Title'].count().sort_values(ascending=False).head(5)\n",
    "top"
   ]
  },
  {
   "cell_type": "code",
   "execution_count": 202,
   "id": "e04223f4",
   "metadata": {},
   "outputs": [
    {
     "data": {
      "image/png": "[encoded data removed]",
      "text/plain": [
       "<Figure size 432x576 with 1 Axes>"
      ]
     },
     "metadata": {},
     "output_type": "display_data"
    }
   ],
   "source": [
    "plt.figure(figsize=(6,8))\n",
    "top.plot.pie(autopct='%.2f%%',explode=[0.05,0,0,0,0],fontsize=13,shadow=True,counterclock=False,startangle=90)\n",
    "plt.title('Comparing Top 5 Developers',fontsize=15,color='brown')\n",
    "plt.show()"
   ]
  }
 ],
 "metadata": {
  "kernelspec": {
   "display_name": "Python 3 (ipykernel)",
   "language": "python",
   "name": "python3"
  },
  "language_info": {
   "codemirror_mode": {
    "name": "ipython",
    "version": 3
   },
   "file_extension": ".py",
   "mimetype": "text/x-python",
   "name": "python",
   "nbconvert_exporter": "python",
   "pygments_lexer": "ipython3",
   "version": "3.9.12"
  }
 },
 "nbformat": 4,
 "nbformat_minor": 5
}
